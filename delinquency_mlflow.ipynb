{
 "cells": [
  {
   "cell_type": "code",
   "execution_count": 1,
   "id": "c7ad2d5c-5849-4510-8ebc-4434ae09047c",
   "metadata": {},
   "outputs": [],
   "source": [
    "import pandas as pd\n",
    "import numpy as np"
   ]
  },
  {
   "cell_type": "code",
   "execution_count": 2,
   "id": "aa04ecd0-b0ee-4ec8-b36a-11bc67d99b2b",
   "metadata": {},
   "outputs": [
    {
     "data": {
      "text/html": [
       "<div>\n",
       "<style scoped>\n",
       "    .dataframe tbody tr th:only-of-type {\n",
       "        vertical-align: middle;\n",
       "    }\n",
       "\n",
       "    .dataframe tbody tr th {\n",
       "        vertical-align: top;\n",
       "    }\n",
       "\n",
       "    .dataframe thead th {\n",
       "        text-align: right;\n",
       "    }\n",
       "</style>\n",
       "<table border=\"1\" class=\"dataframe\">\n",
       "  <thead>\n",
       "    <tr style=\"text-align: right;\">\n",
       "      <th></th>\n",
       "      <th>,SeriousDlqin2yrs,RevolvingUtilizationOfUnsecuredLines,age,NumberOfTime30-59DaysPastDueNotWorse,DebtRatio,MonthlyIncome,NumberOfOpenCreditLinesAndLoans,NumberOfTimes90DaysLate,NumberRealEstateLoansOrLines,NumberOfTime60-89DaysPastDueNotWorse,NumberOfDependents</th>\n",
       "    </tr>\n",
       "  </thead>\n",
       "  <tbody>\n",
       "    <tr>\n",
       "      <th>0</th>\n",
       "      <td>1,1,0.766126609,45,2,0.802982129,9120,13,0,6,0,2</td>\n",
       "    </tr>\n",
       "    <tr>\n",
       "      <th>1</th>\n",
       "      <td>2,0,0.957151019,40,0,0.121876201,2600,4,0,0,0,1</td>\n",
       "    </tr>\n",
       "    <tr>\n",
       "      <th>2</th>\n",
       "      <td>3,0,0.65818014,38,1,0.085113375,3042,2,1,0,0,0</td>\n",
       "    </tr>\n",
       "    <tr>\n",
       "      <th>3</th>\n",
       "      <td>4,0,0.233809776,30,0,0.036049682,3300,5,0,0,0,0</td>\n",
       "    </tr>\n",
       "    <tr>\n",
       "      <th>4</th>\n",
       "      <td>5,0,0.9072394,49,1,0.024925695,63588,7,0,1,0,0</td>\n",
       "    </tr>\n",
       "  </tbody>\n",
       "</table>\n",
       "</div>"
      ],
      "text/plain": [
       "  ,SeriousDlqin2yrs,RevolvingUtilizationOfUnsecuredLines,age,NumberOfTime30-59DaysPastDueNotWorse,DebtRatio,MonthlyIncome,NumberOfOpenCreditLinesAndLoans,NumberOfTimes90DaysLate,NumberRealEstateLoansOrLines,NumberOfTime60-89DaysPastDueNotWorse,NumberOfDependents\n",
       "0   1,1,0.766126609,45,2,0.802982129,9120,13,0,6,0,2                                                                                                                                                                                                                  \n",
       "1    2,0,0.957151019,40,0,0.121876201,2600,4,0,0,0,1                                                                                                                                                                                                                  \n",
       "2     3,0,0.65818014,38,1,0.085113375,3042,2,1,0,0,0                                                                                                                                                                                                                  \n",
       "3    4,0,0.233809776,30,0,0.036049682,3300,5,0,0,0,0                                                                                                                                                                                                                  \n",
       "4     5,0,0.9072394,49,1,0.024925695,63588,7,0,1,0,0                                                                                                                                                                                                                  "
      ]
     },
     "execution_count": 2,
     "metadata": {},
     "output_type": "execute_result"
    }
   ],
   "source": [
    "df= pd.read_csv('ds.csv')\n",
    "df.head()"
   ]
  },
  {
   "cell_type": "code",
   "execution_count": 4,
   "id": "52967ac4-5e61-4919-925e-6c5e93b8c7f2",
   "metadata": {},
   "outputs": [
    {
     "data": {
      "text/plain": [
       "Index([',SeriousDlqin2yrs,RevolvingUtilizationOfUnsecuredLines,age,NumberOfTime30-59DaysPastDueNotWorse,DebtRatio,MonthlyIncome,NumberOfOpenCreditLinesAndLoans,NumberOfTimes90DaysLate,NumberRealEstateLoansOrLines,NumberOfTime60-89DaysPastDueNotWorse,NumberOfDependents'], dtype='object')"
      ]
     },
     "execution_count": 4,
     "metadata": {},
     "output_type": "execute_result"
    }
   ],
   "source": [
    "df.columns"
   ]
  },
  {
   "cell_type": "code",
   "execution_count": 10,
   "id": "440a6e88-0cf5-4b02-b187-15c78eac4e6b",
   "metadata": {},
   "outputs": [
    {
     "data": {
      "text/html": [
       "<div>\n",
       "<style scoped>\n",
       "    .dataframe tbody tr th:only-of-type {\n",
       "        vertical-align: middle;\n",
       "    }\n",
       "\n",
       "    .dataframe tbody tr th {\n",
       "        vertical-align: top;\n",
       "    }\n",
       "\n",
       "    .dataframe thead th {\n",
       "        text-align: right;\n",
       "    }\n",
       "</style>\n",
       "<table border=\"1\" class=\"dataframe\">\n",
       "  <thead>\n",
       "    <tr style=\"text-align: right;\">\n",
       "      <th></th>\n",
       "      <th>,SeriousDlqin2yrs,RevolvingUtilizationOfUnsecuredLines,age,NumberOfTime30-59DaysPastDueNotWorse,DebtRatio,MonthlyIncome,NumberOfOpenCreditLinesAndLoans,NumberOfTimes90DaysLate,NumberRealEstateLoansOrLines,NumberOfTime60-89DaysPastDueNotWorse,NumberOfDependents</th>\n",
       "    </tr>\n",
       "  </thead>\n",
       "  <tbody>\n",
       "    <tr>\n",
       "      <th>0</th>\n",
       "      <td>1,1,0.766126609,45,2,0.802982129,9120,13,0,6,0,2</td>\n",
       "    </tr>\n",
       "    <tr>\n",
       "      <th>1</th>\n",
       "      <td>2,0,0.957151019,40,0,0.121876201,2600,4,0,0,0,1</td>\n",
       "    </tr>\n",
       "    <tr>\n",
       "      <th>2</th>\n",
       "      <td>3,0,0.65818014,38,1,0.085113375,3042,2,1,0,0,0</td>\n",
       "    </tr>\n",
       "    <tr>\n",
       "      <th>3</th>\n",
       "      <td>4,0,0.233809776,30,0,0.036049682,3300,5,0,0,0,0</td>\n",
       "    </tr>\n",
       "    <tr>\n",
       "      <th>4</th>\n",
       "      <td>5,0,0.9072394,49,1,0.024925695,63588,7,0,1,0,0</td>\n",
       "    </tr>\n",
       "    <tr>\n",
       "      <th>...</th>\n",
       "      <td>...</td>\n",
       "    </tr>\n",
       "    <tr>\n",
       "      <th>149995</th>\n",
       "      <td>149996,0,0.040673864,74,0,0.22513089,2100,4,0,...</td>\n",
       "    </tr>\n",
       "    <tr>\n",
       "      <th>149996</th>\n",
       "      <td>149997,0,0.299745148,44,0,0.71656222,5584,4,0,...</td>\n",
       "    </tr>\n",
       "    <tr>\n",
       "      <th>149997</th>\n",
       "      <td>149998,0,0.246043918,58,0,3870,NA,18,0,1,0,0</td>\n",
       "    </tr>\n",
       "    <tr>\n",
       "      <th>149998</th>\n",
       "      <td>149999,0,0,30,0,0,5716,4,0,0,0,0</td>\n",
       "    </tr>\n",
       "    <tr>\n",
       "      <th>149999</th>\n",
       "      <td>150000,0,0.850282951,64,0,0.249908077,8158,8,0...</td>\n",
       "    </tr>\n",
       "  </tbody>\n",
       "</table>\n",
       "<p>150000 rows × 1 columns</p>\n",
       "</div>"
      ],
      "text/plain": [
       "       ,SeriousDlqin2yrs,RevolvingUtilizationOfUnsecuredLines,age,NumberOfTime30-59DaysPastDueNotWorse,DebtRatio,MonthlyIncome,NumberOfOpenCreditLinesAndLoans,NumberOfTimes90DaysLate,NumberRealEstateLoansOrLines,NumberOfTime60-89DaysPastDueNotWorse,NumberOfDependents\n",
       "0        1,1,0.766126609,45,2,0.802982129,9120,13,0,6,0,2                                                                                                                                                                                                                  \n",
       "1         2,0,0.957151019,40,0,0.121876201,2600,4,0,0,0,1                                                                                                                                                                                                                  \n",
       "2          3,0,0.65818014,38,1,0.085113375,3042,2,1,0,0,0                                                                                                                                                                                                                  \n",
       "3         4,0,0.233809776,30,0,0.036049682,3300,5,0,0,0,0                                                                                                                                                                                                                  \n",
       "4          5,0,0.9072394,49,1,0.024925695,63588,7,0,1,0,0                                                                                                                                                                                                                  \n",
       "...                                                   ...                                                                                                                                                                                                                  \n",
       "149995  149996,0,0.040673864,74,0,0.22513089,2100,4,0,...                                                                                                                                                                                                                  \n",
       "149996  149997,0,0.299745148,44,0,0.71656222,5584,4,0,...                                                                                                                                                                                                                  \n",
       "149997       149998,0,0.246043918,58,0,3870,NA,18,0,1,0,0                                                                                                                                                                                                                  \n",
       "149998                   149999,0,0,30,0,0,5716,4,0,0,0,0                                                                                                                                                                                                                  \n",
       "149999  150000,0,0.850282951,64,0,0.249908077,8158,8,0...                                                                                                                                                                                                                  \n",
       "\n",
       "[150000 rows x 1 columns]"
      ]
     },
     "execution_count": 10,
     "metadata": {},
     "output_type": "execute_result"
    }
   ],
   "source": [
    "df"
   ]
  },
  {
   "cell_type": "code",
   "execution_count": null,
   "id": "2e6e912d-5626-4e4e-b144-c26d0f351741",
   "metadata": {},
   "outputs": [],
   "source": []
  }
 ],
 "metadata": {
  "kernelspec": {
   "display_name": "Python 3 (ipykernel)",
   "language": "python",
   "name": "python3"
  },
  "language_info": {
   "codemirror_mode": {
    "name": "ipython",
    "version": 3
   },
   "file_extension": ".py",
   "mimetype": "text/x-python",
   "name": "python",
   "nbconvert_exporter": "python",
   "pygments_lexer": "ipython3",
   "version": "3.11.5"
  }
 },
 "nbformat": 4,
 "nbformat_minor": 5
}
